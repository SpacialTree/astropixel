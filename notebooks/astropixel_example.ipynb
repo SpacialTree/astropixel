{
 "cells": [
  {
   "cell_type": "markdown",
   "metadata": {},
   "source": [
    "# Installing Dependencies\n",
    "\n",
    "Uncomment if these are not already installed."
   ]
  },
  {
   "cell_type": "code",
   "execution_count": null,
   "metadata": {},
   "outputs": [],
   "source": [
    "#!pip install astropy \n",
    "#!pip install numpy \n",
    "#!pip install matplotlib\n",
    "#!pip install spectral-cube \n",
    "#!pip install regions\n",
    "#!pip install astroquery\n",
    "#!pip install astropixel"
   ]
  },
  {
   "cell_type": "markdown",
   "metadata": {},
   "source": [
    "# Importing Dependencies"
   ]
  },
  {
   "cell_type": "code",
   "execution_count": null,
   "metadata": {},
   "outputs": [],
   "source": [
    "import astropixel\n",
    "from astropixel import catalog_querry\n",
    "from astropixel import plot_stars\n",
    "from astropixel import make_star\n",
    "from astropixel.make_star import GaussianCrossPSF"
   ]
  },
  {
   "cell_type": "code",
   "execution_count": null,
   "metadata": {},
   "outputs": [],
   "source": [
    "import numpy as np\n",
    "import matplotlib.pyplot as plt\n",
    "from astropy import units as u\n",
    "from astropy.coordinates import SkyCoord\n",
    "from astropy.table import Table"
   ]
  },
  {
   "cell_type": "markdown",
   "metadata": {},
   "source": [
    "# What is AstroPixel?\n",
    "\n",
    "AstroPixel was made with the goal of making pixel art out of real astronomical data! \n",
    "\n",
    "This program will query a region of the sky given a coordinate and radius. Then, the user can plot the field as pixel art. \n",
    "\n",
    "Let's run through an example of how to use AstroPixel. \n",
    "\n",
    "First, choose a coordinate to query. You can either make a SkyCoord object or utilize AstroPixel's random coordinate generator."
   ]
  },
  {
   "cell_type": "code",
   "execution_count": null,
   "metadata": {},
   "outputs": [],
   "source": [
    "coord = SkyCoord.from_name('Barnard\\'s Star') # Coordinates of Barnard's Star\n",
    "#coord = SkyCoord('05h35m17.3s -05d23m28s', frame='icrs') # Coordinates of Barnard's Star\n",
    "#coord = catalog_querry.get_random_coordinates_() # A random coordinate in the whole sky (Warning: More likely to query an empty region)\n",
    "#coord = catalog_querry.get_random_coordinates_gal() # A random coordinate in the galactic plane"
   ]
  },
  {
   "cell_type": "markdown",
   "metadata": {},
   "source": [
    "Next, initialize the StarPlotter object. Choose an image `size` and the `radius` of the queried field on the sky. "
   ]
  },
  {
   "cell_type": "code",
   "execution_count": null,
   "metadata": {},
   "outputs": [],
   "source": [
    "plotter = plot_stars.StarPlotter(coord, size=(50, 50), radius=1*u.arcmin)"
   ]
  },
  {
   "cell_type": "markdown",
   "metadata": {},
   "source": [
    "Now, let's see where the stars are. Let's use a scatter plot first to see where the stars are.\n",
    "\n",
    "For all of the plotting functions, you can turn the labels on and off. They are off by default for the best images!"
   ]
  },
  {
   "cell_type": "code",
   "execution_count": null,
   "metadata": {},
   "outputs": [],
   "source": [
    "plotter.plot_scatter_field(labels=True)"
   ]
  },
  {
   "cell_type": "markdown",
   "metadata": {},
   "source": [
    "Now let's try some pixel art!"
   ]
  },
  {
   "cell_type": "code",
   "execution_count": null,
   "metadata": {},
   "outputs": [],
   "source": [
    "plotter.plot_cross_psf_field()"
   ]
  },
  {
   "cell_type": "markdown",
   "metadata": {},
   "source": [
    "Looks great! But greyscale is a bit boring. Luckily, AstroPixel can make its colors RGB!"
   ]
  },
  {
   "cell_type": "code",
   "execution_count": null,
   "metadata": {},
   "outputs": [],
   "source": [
    "plotter.plot_cross_psf_field_rgb()"
   ]
  },
  {
   "cell_type": "markdown",
   "metadata": {},
   "source": [
    "Astropixel images aren't limited to square images!"
   ]
  },
  {
   "cell_type": "code",
   "execution_count": null,
   "metadata": {},
   "outputs": [],
   "source": [
    "rect_plotter = plot_stars.StarPlotter(coord, size=(100, 50), radius=1*u.arcmin)\n",
    "\n",
    "rect_plotter.plot_cross_psf_field_rgb()"
   ]
  },
  {
   "cell_type": "markdown",
   "metadata": {},
   "source": [
    "Plus, these images still have the correct coordinates for the stars...\n",
    "\n",
    "Also, the plotting functions return their Axes, which is nice for customizing your pixelart!"
   ]
  },
  {
   "cell_type": "code",
   "execution_count": null,
   "metadata": {},
   "outputs": [],
   "source": [
    "ax = rect_plotter.plot_cross_psf_field_rgb()\n",
    "rect_plotter.plot_scatter_field(ax=ax)"
   ]
  },
  {
   "cell_type": "markdown",
   "metadata": {},
   "source": [
    "# Using Other Catalogs\n",
    "\n",
    "AstroPixel uses the 2MASS catalog by default, but you can use other catalogs available on Vizier. Just be aware that not all catalogs have enough magntiudes available to make an RGB image out of. \n",
    "\n",
    "For an example of another catalog coded into AstroPixel, let's look at SDSS."
   ]
  },
  {
   "cell_type": "code",
   "execution_count": null,
   "metadata": {},
   "outputs": [],
   "source": [
    "# You can change the catalog queried by setting the catalog_name parameter. It is 2MASS by default.\n",
    "plotter_SDSS = plot_stars.StarPlotter(coord, size=(50, 50), radius=0.5*u.arcmin, catalog_name='SDSS')\n",
    "\n",
    "ax1 = plt.subplot(121, projection=plotter_SDSS.wcs)\n",
    "ax2 = plt.subplot(122, projection=plotter_SDSS.wcs)\n",
    "\n",
    "# You can check and see which columns of the catalog query are being used by the plotter using the object's attributes. \n",
    "print(plotter_SDSS.R, plotter_SDSS.G, plotter_SDSS.B)\n",
    "plotter_SDSS.plot_cross_psf_field_rgb(ax=ax1)\n",
    "ax1.set_title('i-g-u')\n",
    "\n",
    "# You can also set the columns to be used.\n",
    "plotter_SDSS.G = 'rmag'\n",
    "print(plotter_SDSS.R, plotter_SDSS.G, plotter_SDSS.B)\n",
    "\n",
    "plotter_SDSS.plot_cross_psf_field_rgb(ax=ax2)\n",
    "ax2.set_title('i-r-u')\n",
    "\n",
    "plt.tight_layout()\n",
    "plt.show()"
   ]
  },
  {
   "cell_type": "markdown",
   "metadata": {},
   "source": [
    "Okay, but what if you want to use a different catalog, one that isn't implemented by AstroPixel? "
   ]
  },
  {
   "cell_type": "code",
   "execution_count": null,
   "metadata": {},
   "outputs": [],
   "source": [
    "# You can query any catalog available in Vizier by setting the catalog_name parameter to the desired catalog's name.\n",
    "# The catalog's name must be a valid Vizier catalog name. You can check the available catalogs in Vizier's website.\n",
    "# Note that if the catalog is not available in Vizier, the query will return an empty table, and the code will select \n",
    "# the default 2MASS catalog instead. \n",
    "\n",
    "#coord = SkyCoord('17:56:14.5444133448', '-28:02:05.654852376', unit=(u.hourangle, u.deg))\n",
    "#coord = SkyCoord(l=0.0, b=0.0, unit=(u.deg, u.deg), frame='galactic') # Coordinates of the galactic center\n",
    "#coord = SkyCoord('00h42m44.3303s +41d16m08.834s', frame='icrs') # Coordinates of M31\n",
    "coord = catalog_querry.get_random_coordinates_gal() # A random coordinate in the whole sky (Warning: More likely to query an empty region)\n",
    "\n",
    "# Let's try querying the catalog II/349\n",
    "plotter_ex = plot_stars.StarPlotter(coord.icrs, size=(100, 100), radius=1*u.arcmin, catalog_name='II/349')"
   ]
  },
  {
   "cell_type": "code",
   "execution_count": null,
   "metadata": {},
   "outputs": [],
   "source": [
    "# Trying to plot the catalog will return an error, as the columns used for the R, G, B, RA, and DEC must be set manually.\n",
    "# You can check the available columns in the table by printing the table columns.\n",
    "print(plotter_ex.cat.columns)"
   ]
  },
  {
   "cell_type": "code",
   "execution_count": null,
   "metadata": {},
   "outputs": [],
   "source": [
    "# Now let's set the columns to be used.\n",
    "\n",
    "plotter_ex.R = 'imag'\n",
    "plotter_ex.G = 'rmag'\n",
    "plotter_ex.B = 'gmag'\n",
    "\n",
    "plotter_ex.RA = 'RAJ2000'\n",
    "plotter_ex.DEC = 'DEJ2000'\n"
   ]
  },
  {
   "cell_type": "code",
   "execution_count": null,
   "metadata": {},
   "outputs": [],
   "source": [
    "plotter_ex.plot_cross_psf_field_rgb()"
   ]
  },
  {
   "cell_type": "code",
   "execution_count": null,
   "metadata": {},
   "outputs": [],
   "source": []
  }
 ],
 "metadata": {
  "kernelspec": {
   "display_name": "codeastro",
   "language": "python",
   "name": "python3"
  },
  "language_info": {
   "codemirror_mode": {
    "name": "ipython",
    "version": 3
   },
   "file_extension": ".py",
   "mimetype": "text/x-python",
   "name": "python",
   "nbconvert_exporter": "python",
   "pygments_lexer": "ipython3",
   "version": "3.10.14"
  }
 },
 "nbformat": 4,
 "nbformat_minor": 2
}
