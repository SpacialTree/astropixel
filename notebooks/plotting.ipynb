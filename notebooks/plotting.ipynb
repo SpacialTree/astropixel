{
 "cells": [
  {
   "cell_type": "code",
   "execution_count": 10,
   "metadata": {},
   "outputs": [
    {
     "ename": "ModuleNotFoundError",
     "evalue": "No module named 'catalog_querry'",
     "output_type": "error",
     "traceback": [
      "\u001b[0;31m---------------------------------------------------------------------------\u001b[0m",
      "\u001b[0;31mModuleNotFoundError\u001b[0m                       Traceback (most recent call last)",
<<<<<<< HEAD
      "Cell \u001b[0;32mIn[10], line 4\u001b[0m\n\u001b[1;32m      2\u001b[0m \u001b[38;5;28;01mfrom\u001b[39;00m \u001b[38;5;21;01mastropixel\u001b[39;00m \u001b[38;5;28;01mimport\u001b[39;00m catalog_querry\n\u001b[1;32m      3\u001b[0m \u001b[38;5;28;01mfrom\u001b[39;00m \u001b[38;5;21;01mastropixel\u001b[39;00m \u001b[38;5;28;01mimport\u001b[39;00m make_star\n\u001b[0;32m----> 4\u001b[0m \u001b[38;5;28;01mfrom\u001b[39;00m \u001b[38;5;21;01mastropixel\u001b[39;00m \u001b[38;5;28;01mimport\u001b[39;00m plot_stars\n",
=======
      "Cell \u001b[0;32mIn[1], line 4\u001b[0m\n\u001b[1;32m      2\u001b[0m \u001b[38;5;28;01mfrom\u001b[39;00m \u001b[38;5;21;01mastropixel\u001b[39;00m \u001b[38;5;28;01mimport\u001b[39;00m catalog_querry\n\u001b[1;32m      3\u001b[0m \u001b[38;5;28;01mfrom\u001b[39;00m \u001b[38;5;21;01mastropixel\u001b[39;00m \u001b[38;5;28;01mimport\u001b[39;00m make_star\n\u001b[0;32m----> 4\u001b[0m \u001b[38;5;28;01mfrom\u001b[39;00m \u001b[38;5;21;01mastropixel\u001b[39;00m \u001b[38;5;28;01mimport\u001b[39;00m plot_stars\n",
>>>>>>> 33b8ffdfe7131e32080ef2c57c40233d460ffdfd
      "File \u001b[0;32m~/codeastro/astropixel/astropixel/plot_stars.py:10\u001b[0m\n\u001b[1;32m      6\u001b[0m \u001b[38;5;28;01mimport\u001b[39;00m \u001b[38;5;21;01mnumpy\u001b[39;00m \u001b[38;5;28;01mas\u001b[39;00m \u001b[38;5;21;01mnp\u001b[39;00m\n\u001b[1;32m      8\u001b[0m \u001b[38;5;28;01mimport\u001b[39;00m \u001b[38;5;21;01mmatplotlib\u001b[39;00m\u001b[38;5;21;01m.\u001b[39;00m\u001b[38;5;21;01mpyplot\u001b[39;00m \u001b[38;5;28;01mas\u001b[39;00m \u001b[38;5;21;01mplt\u001b[39;00m\n\u001b[0;32m---> 10\u001b[0m \u001b[38;5;28;01mimport\u001b[39;00m \u001b[38;5;21;01mcatalog_querry\u001b[39;00m\n\u001b[1;32m     11\u001b[0m \u001b[38;5;28;01mimport\u001b[39;00m \u001b[38;5;21;01mmake_star\u001b[39;00m\n\u001b[1;32m     14\u001b[0m \u001b[38;5;28;01mclass\u001b[39;00m \u001b[38;5;21;01mStarPlotter\u001b[39;00m(\u001b[38;5;28mobject\u001b[39m):\n",
      "\u001b[0;31mModuleNotFoundError\u001b[0m: No module named 'catalog_querry'"
     ]
    }
   ],
   "source": [
    "import astropixel\n",
    "from astropixel import catalog_querry\n",
    "from astropixel import make_star\n",
    "from astropixel import plot_stars"
   ]
<<<<<<< HEAD
  },
  {
   "cell_type": "code",
   "execution_count": null,
   "metadata": {},
   "outputs": [],
   "source": []
=======
>>>>>>> 33b8ffdfe7131e32080ef2c57c40233d460ffdfd
  },
  {
   "cell_type": "code",
   "execution_count": 11,
   "metadata": {},
   "outputs": [],
   "source": [
    "import numpy as np\n",
    "import matplotlib.pyplot as plt\n",
    "from astropy.coordinates import SkyCoord\n",
    "import astropy.units as u\n",
    "#import catalog_querry\n",
    "#import cutout\n",
    "#import plot_stars\n",
    "#import make_star\n"
   ]
  },
  {
   "cell_type": "code",
   "execution_count": 12,
   "metadata": {},
   "outputs": [
    {
     "data": {
      "text/html": [
       "<div><i>Table length=50</i>\n",
       "<table id=\"table139936471959584\" class=\"table-striped table-bordered table-condensed\">\n",
       "<thead><tr><th>RA_ICRS</th><th>DE_ICRS</th><th>mode</th><th>q_mode</th><th>class</th><th>SDSS12</th><th>m_SDSS12</th><th>_tab1_18</th><th>Q</th><th>umag</th><th>e_umag</th><th>gmag</th><th>e_gmag</th><th>rmag</th><th>e_rmag</th><th>imag</th><th>e_imag</th><th>zmag</th><th>e_zmag</th><th>zsp</th><th>zph</th><th>e_zph</th><th>__zph_</th></tr></thead>\n",
       "<thead><tr><th>deg</th><th>deg</th><th></th><th></th><th></th><th></th><th></th><th>yr</th><th></th><th>mag</th><th>mag</th><th>mag</th><th>mag</th><th>mag</th><th>mag</th><th>mag</th><th>mag</th><th>mag</th><th>mag</th><th></th><th></th><th></th><th></th></tr></thead>\n",
       "<thead><tr><th>float64</th><th>float64</th><th>uint8</th><th>str1</th><th>uint8</th><th>str19</th><th>str1</th><th>float64</th><th>uint8</th><th>float32</th><th>float32</th><th>float32</th><th>float32</th><th>float32</th><th>float32</th><th>float32</th><th>float32</th><th>float32</th><th>float32</th><th>float64</th><th>float64</th><th>float64</th><th>float32</th></tr></thead>\n",
       "<tr><td>269.445596</td><td>4.680012</td><td>1</td><td>+</td><td>6</td><td>J175746.94+044048.0</td><td>*</td><td>2003.6391</td><td>1</td><td>20.004</td><td>0.043</td><td>17.970</td><td>0.006</td><td>17.146</td><td>0.005</td><td>16.843</td><td>0.005</td><td>16.682</td><td>0.010</td><td>--</td><td>--</td><td>--</td><td>--</td></tr>\n",
       "<tr><td>269.446191</td><td>4.677932</td><td>1</td><td>+</td><td>6</td><td>J175747.08+044040.5</td><td>*</td><td>2003.6391</td><td>1</td><td>21.095</td><td>0.095</td><td>19.860</td><td>0.018</td><td>19.310</td><td>0.015</td><td>19.012</td><td>0.016</td><td>18.933</td><td>0.052</td><td>--</td><td>--</td><td>--</td><td>--</td></tr>\n",
       "<tr><td>269.445764</td><td>4.679167</td><td>1</td><td></td><td>6</td><td>J175746.98+044045.0</td><td></td><td>2003.6391</td><td>1</td><td>23.128</td><td>0.533</td><td>20.542</td><td>0.029</td><td>19.553</td><td>0.019</td><td>19.291</td><td>0.020</td><td>19.125</td><td>0.060</td><td>--</td><td>--</td><td>--</td><td>--</td></tr>\n",
       "<tr><td>269.448015</td><td>4.683318</td><td>1</td><td>+</td><td>6</td><td>J175747.52+044059.9</td><td>*</td><td>2003.6391</td><td>1</td><td>18.591</td><td>0.018</td><td>17.086</td><td>0.004</td><td>16.475</td><td>0.004</td><td>16.235</td><td>0.004</td><td>16.118</td><td>0.008</td><td>--</td><td>--</td><td>--</td><td>--</td></tr>\n",
       "<tr><td>269.449395</td><td>4.684532</td><td>1</td><td>+</td><td>6</td><td>J175747.85+044104.3</td><td>*</td><td>2003.6391</td><td>1</td><td>20.134</td><td>0.046</td><td>18.574</td><td>0.008</td><td>18.002</td><td>0.007</td><td>17.786</td><td>0.008</td><td>17.718</td><td>0.020</td><td>--</td><td>--</td><td>--</td><td>--</td></tr>\n",
       "<tr><td>269.450722</td><td>4.682767</td><td>1</td><td>+</td><td>6</td><td>J175748.17+044057.9</td><td>*</td><td>2003.6391</td><td>1</td><td>22.808</td><td>0.382</td><td>20.278</td><td>0.023</td><td>19.525</td><td>0.018</td><td>19.175</td><td>0.018</td><td>18.959</td><td>0.052</td><td>--</td><td>--</td><td>--</td><td>--</td></tr>\n",
       "<tr><td>269.452434</td><td>4.682348</td><td>1</td><td>+</td><td>6</td><td>J175748.58+044056.4</td><td></td><td>2003.6391</td><td>1</td><td>23.494</td><td>0.658</td><td>20.731</td><td>0.031</td><td>19.997</td><td>0.024</td><td>19.681</td><td>0.026</td><td>19.515</td><td>0.083</td><td>--</td><td>--</td><td>--</td><td>--</td></tr>\n",
       "<tr><td>269.449619</td><td>4.682260</td><td>1</td><td></td><td>6</td><td>J175747.90+044056.1</td><td></td><td>2003.6391</td><td>1</td><td>24.929</td><td>0.963</td><td>24.734</td><td>0.663</td><td>23.600</td><td>0.495</td><td>22.422</td><td>0.272</td><td>19.252</td><td>0.066</td><td>--</td><td>--</td><td>--</td><td>--</td></tr>\n",
       "<tr><td>269.454658</td><td>4.677551</td><td>1</td><td>+</td><td>6</td><td>J175749.11+044039.1</td><td>*</td><td>2003.6391</td><td>1</td><td>21.254</td><td>0.107</td><td>18.717</td><td>0.009</td><td>17.710</td><td>0.006</td><td>17.306</td><td>0.006</td><td>17.068</td><td>0.013</td><td>--</td><td>--</td><td>--</td><td>--</td></tr>\n",
       "<tr><td>...</td><td>...</td><td>...</td><td>...</td><td>...</td><td>...</td><td>...</td><td>...</td><td>...</td><td>...</td><td>...</td><td>...</td><td>...</td><td>...</td><td>...</td><td>...</td><td>...</td><td>...</td><td>...</td><td>...</td><td>...</td><td>...</td><td>...</td></tr>\n",
       "<tr><td>269.463312</td><td>4.682253</td><td>2</td><td></td><td>6</td><td>J175751.19+044056.1</td><td>*</td><td>2006.3036</td><td>1</td><td>23.995</td><td>1.284</td><td>23.091</td><td>0.295</td><td>21.743</td><td>0.127</td><td>20.912</td><td>0.085</td><td>20.649</td><td>0.253</td><td>--</td><td>--</td><td>--</td><td>--</td></tr>\n",
       "<tr><td>269.464710</td><td>4.693758</td><td>2</td><td></td><td>3</td><td>J175751.53+044137.5</td><td></td><td>2006.3036</td><td>1</td><td>23.815</td><td>1.302</td><td>23.968</td><td>0.679</td><td>22.133</td><td>0.205</td><td>22.415</td><td>0.362</td><td>21.988</td><td>0.820</td><td>--</td><td>--</td><td>--</td><td>--</td></tr>\n",
       "<tr><td>269.466885</td><td>4.688775</td><td>2</td><td></td><td>6</td><td>J175752.05+044119.5</td><td>*</td><td>2006.3036</td><td>1</td><td>19.786</td><td>0.049</td><td>17.350</td><td>0.005</td><td>16.254</td><td>0.004</td><td>15.957</td><td>0.004</td><td>15.678</td><td>0.006</td><td>--</td><td>--</td><td>--</td><td>--</td></tr>\n",
       "<tr><td>269.467357</td><td>4.686761</td><td>2</td><td></td><td>6</td><td>J175752.16+044112.3</td><td></td><td>2006.3036</td><td>1</td><td>24.494</td><td>1.835</td><td>23.970</td><td>0.762</td><td>21.606</td><td>0.148</td><td>20.404</td><td>0.069</td><td>20.071</td><td>0.196</td><td>--</td><td>--</td><td>--</td><td>--</td></tr>\n",
       "<tr><td>269.456642</td><td>4.684222</td><td>2</td><td></td><td>6</td><td>J175749.59+044103.1</td><td>*</td><td>2006.3036</td><td>1</td><td>20.605</td><td>0.088</td><td>19.799</td><td>0.019</td><td>19.283</td><td>0.017</td><td>19.086</td><td>0.019</td><td>18.908</td><td>0.056</td><td>--</td><td>--</td><td>--</td><td>--</td></tr>\n",
       "<tr><td>269.455000</td><td>4.684575</td><td>2</td><td></td><td>6</td><td>J175749.20+044104.4</td><td></td><td>2006.3036</td><td>1</td><td>24.428</td><td>1.496</td><td>21.732</td><td>0.092</td><td>20.638</td><td>0.050</td><td>20.220</td><td>0.047</td><td>20.266</td><td>0.183</td><td>--</td><td>--</td><td>--</td><td>--</td></tr>\n",
       "<tr><td>269.435925</td><td>4.690114</td><td>1</td><td></td><td>6</td><td>J175744.62+044124.4</td><td>*</td><td>2003.6391</td><td>1</td><td>18.480</td><td>0.017</td><td>16.190</td><td>0.004</td><td>15.267</td><td>0.003</td><td>14.945</td><td>0.003</td><td>14.772</td><td>0.005</td><td>--</td><td>--</td><td>--</td><td>--</td></tr>\n",
       "<tr><td>269.438502</td><td>4.689350</td><td>1</td><td></td><td>6</td><td>J175745.24+044121.6</td><td>*</td><td>2003.6391</td><td>1</td><td>22.082</td><td>0.207</td><td>19.482</td><td>0.013</td><td>17.957</td><td>0.007</td><td>16.875</td><td>0.005</td><td>16.304</td><td>0.008</td><td>--</td><td>--</td><td>--</td><td>--</td></tr>\n",
       "<tr><td>269.439087</td><td>4.688682</td><td>1</td><td></td><td>6</td><td>J175745.38+044119.2</td><td></td><td>2003.6391</td><td>1</td><td>24.260</td><td>0.956</td><td>21.457</td><td>0.056</td><td>21.368</td><td>0.077</td><td>24.365</td><td>0.878</td><td>20.638</td><td>0.219</td><td>--</td><td>--</td><td>--</td><td>--</td></tr>\n",
       "</table></div>"
      ],
      "text/plain": [
       "<Table length=50>\n",
       " RA_ICRS    DE_ICRS    mode q_mode class ...   zsp     zph    e_zph   __zph_\n",
       "   deg        deg                        ...                                \n",
       " float64    float64   uint8  str1  uint8 ... float64 float64 float64 float32\n",
       "---------- ---------- ----- ------ ----- ... ------- ------- ------- -------\n",
       "269.445596   4.680012     1      +     6 ...      --      --      --      --\n",
       "269.446191   4.677932     1      +     6 ...      --      --      --      --\n",
       "269.445764   4.679167     1            6 ...      --      --      --      --\n",
       "269.448015   4.683318     1      +     6 ...      --      --      --      --\n",
       "269.449395   4.684532     1      +     6 ...      --      --      --      --\n",
       "269.450722   4.682767     1      +     6 ...      --      --      --      --\n",
       "269.452434   4.682348     1      +     6 ...      --      --      --      --\n",
       "269.449619   4.682260     1            6 ...      --      --      --      --\n",
       "269.454658   4.677551     1      +     6 ...      --      --      --      --\n",
       "       ...        ...   ...    ...   ... ...     ...     ...     ...     ...\n",
       "269.463312   4.682253     2            6 ...      --      --      --      --\n",
       "269.464710   4.693758     2            3 ...      --      --      --      --\n",
       "269.466885   4.688775     2            6 ...      --      --      --      --\n",
       "269.467357   4.686761     2            6 ...      --      --      --      --\n",
       "269.456642   4.684222     2            6 ...      --      --      --      --\n",
       "269.455000   4.684575     2            6 ...      --      --      --      --\n",
       "269.435925   4.690114     1            6 ...      --      --      --      --\n",
       "269.438502   4.689350     1            6 ...      --      --      --      --\n",
       "269.439087   4.688682     1            6 ...      --      --      --      --"
      ]
     },
     "execution_count": 12,
     "metadata": {},
     "output_type": "execute_result"
    }
   ],
   "source": [
    "\n",
    "coord = SkyCoord.from_name('Barnard\\'s Star')\n",
    "radius = 1*u.arcmin\n",
    "#field = StarPlotter(coord, size=(50, 50), radius=1*u.arcmin)\n",
    "catalog_querry.get_sdss_catalog(coord=coord, radius=radius)"
   ]
  },
  {
   "cell_type": "code",
   "execution_count": 13,
   "metadata": {},
   "outputs": [
    {
     "ename": "NameError",
     "evalue": "name 'plot_stars' is not defined",
     "output_type": "error",
     "traceback": [
      "\u001b[0;31m---------------------------------------------------------------------------\u001b[0m",
      "\u001b[0;31mNameError\u001b[0m                                 Traceback (most recent call last)",
      "Cell \u001b[0;32mIn[13], line 1\u001b[0m\n\u001b[0;32m----> 1\u001b[0m plotter \u001b[38;5;241m=\u001b[39m \u001b[43mplot_stars\u001b[49m\u001b[38;5;241m.\u001b[39mStarPlotter(coord, size\u001b[38;5;241m=\u001b[39m(\u001b[38;5;241m50\u001b[39m, \u001b[38;5;241m50\u001b[39m), radius\u001b[38;5;241m=\u001b[39m\u001b[38;5;241m1\u001b[39m\u001b[38;5;241m*\u001b[39mu\u001b[38;5;241m.\u001b[39marcmin)\n",
      "\u001b[0;31mNameError\u001b[0m: name 'plot_stars' is not defined"
     ]
    }
   ],
   "source": [
    "plotter = plot_stars.StarPlotter(coord, size=(50, 50), radius=1*u.arcmin)"
   ]
  },
  {
   "cell_type": "code",
   "execution_count": 14,
   "metadata": {},
   "outputs": [
    {
     "ename": "NameError",
     "evalue": "name 'plotter' is not defined",
     "output_type": "error",
     "traceback": [
      "\u001b[0;31m---------------------------------------------------------------------------\u001b[0m",
      "\u001b[0;31mNameError\u001b[0m                                 Traceback (most recent call last)",
      "Cell \u001b[0;32mIn[14], line 2\u001b[0m\n\u001b[1;32m      1\u001b[0m fig \u001b[38;5;241m=\u001b[39m plt\u001b[38;5;241m.\u001b[39mfigure(figsize\u001b[38;5;241m=\u001b[39m(\u001b[38;5;241m10\u001b[39m, \u001b[38;5;241m8\u001b[39m))\n\u001b[0;32m----> 2\u001b[0m ax1 \u001b[38;5;241m=\u001b[39m fig\u001b[38;5;241m.\u001b[39madd_subplot(\u001b[38;5;241m121\u001b[39m, projection\u001b[38;5;241m=\u001b[39m\u001b[43mplotter\u001b[49m\u001b[38;5;241m.\u001b[39mwcs)\n\u001b[1;32m      3\u001b[0m plotter\u001b[38;5;241m.\u001b[39mplot_cross_psf_field_rgb(ax\u001b[38;5;241m=\u001b[39max1, labels\u001b[38;5;241m=\u001b[39m\u001b[38;5;28;01mTrue\u001b[39;00m)\n\u001b[1;32m      4\u001b[0m ax1\u001b[38;5;241m.\u001b[39mscatter(plotter\u001b[38;5;241m.\u001b[39mcat[\u001b[38;5;124m'\u001b[39m\u001b[38;5;124mRAJ2000\u001b[39m\u001b[38;5;124m'\u001b[39m], plotter\u001b[38;5;241m.\u001b[39mcat[\u001b[38;5;124m'\u001b[39m\u001b[38;5;124mDEJ2000\u001b[39m\u001b[38;5;124m'\u001b[39m], transform\u001b[38;5;241m=\u001b[39max1\u001b[38;5;241m.\u001b[39mget_transform(\u001b[38;5;124m'\u001b[39m\u001b[38;5;124mworld\u001b[39m\u001b[38;5;124m'\u001b[39m), s\u001b[38;5;241m=\u001b[39m\u001b[38;5;241m100\u001b[39m, edgecolor\u001b[38;5;241m=\u001b[39m\u001b[38;5;124m'\u001b[39m\u001b[38;5;124mblack\u001b[39m\u001b[38;5;124m'\u001b[39m, facecolor\u001b[38;5;241m=\u001b[39m\u001b[38;5;124m'\u001b[39m\u001b[38;5;124mnone\u001b[39m\u001b[38;5;124m'\u001b[39m, lw\u001b[38;5;241m=\u001b[39m\u001b[38;5;241m1.5\u001b[39m)\n",
      "\u001b[0;31mNameError\u001b[0m: name 'plotter' is not defined"
     ]
    },
    {
     "data": {
      "text/plain": [
       "<Figure size 1000x800 with 0 Axes>"
      ]
     },
     "metadata": {},
     "output_type": "display_data"
    }
   ],
   "source": [
    "fig = plt.figure(figsize=(10, 8))\n",
    "ax1 = fig.add_subplot(121, projection=plotter.wcs)\n",
    "plotter.plot_cross_psf_field_rgb(ax=ax1, labels=True)\n",
    "ax1.scatter(plotter.cat['RAJ2000'], plotter.cat['DEJ2000'], transform=ax1.get_transform('world'), s=100, edgecolor='black', facecolor='none', lw=1.5)\n",
    "#plotter.plot_scatter_field(ax=ax1, labels=True)\n",
    "#ax2 = fig.add_subplot(122, projection=plotter.wcs)\n",
    "#ax2 = plotter.plot_cross_psf_field_rgb(ax=ax2, labels=True)\n",
    "\n",
    "plt.tight_layout()"
   ]
  },
  {
   "cell_type": "code",
   "execution_count": 15,
   "metadata": {},
   "outputs": [],
   "source": [
    "size = (300, 200)\n",
    "x = np.linspace(0, size[0]-1, size[0])\n",
    "y = np.linspace(0, size[1]-1, size[1])\n",
    "x, y = np.meshgrid(x, y)\n"
   ]
  },
  {
   "cell_type": "code",
   "execution_count": 16,
   "metadata": {},
   "outputs": [],
   "source": [
    "psf = make_star.GaussianCrossPSF(amplitude=1)\n",
    "x_center = 150\n",
    "y_center = 100\n",
    "stddev = 10\n",
    "background_factor = 0.1\n",
    "size = (300, 200)\n",
    "psf_cross = psf.generate_cross_psf(x_center, y_center, stddev, background_factor, size=size)"
   ]
  },
  {
   "cell_type": "code",
   "execution_count": 17,
   "metadata": {},
   "outputs": [
    {
     "data": {
      "text/plain": [
       "(200, 300)"
      ]
     },
     "execution_count": 17,
     "metadata": {},
     "output_type": "execute_result"
    }
   ],
   "source": [
    "psf_cross.shape"
   ]
  },
  {
   "cell_type": "code",
   "execution_count": null,
   "metadata": {},
   "outputs": [],
   "source": []
  }
 ],
 "metadata": {
  "kernelspec": {
   "display_name": "codeastro",
   "language": "python",
   "name": "python3"
  },
  "language_info": {
   "codemirror_mode": {
    "name": "ipython",
    "version": 3
   },
   "file_extension": ".py",
   "mimetype": "text/x-python",
   "name": "python",
   "nbconvert_exporter": "python",
   "pygments_lexer": "ipython3",
   "version": "3.10.14"
  }
 },
 "nbformat": 4,
 "nbformat_minor": 2
}
