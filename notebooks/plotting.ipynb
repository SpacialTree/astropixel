{
 "cells": [
  {
   "cell_type": "code",
   "execution_count": 1,
   "metadata": {},
   "outputs": [
    {
     "name": "stdout",
     "output_type": "stream",
     "text": [
      "/home/savannahgramze/codeastro/astropixel/astropixel\n"
     ]
    },
    {
     "name": "stderr",
     "output_type": "stream",
     "text": [
      "/home/savannahgramze/anaconda3/envs/codeastro/lib/python3.10/site-packages/IPython/core/magics/osm.py:417: UserWarning: This is now an optional IPython functionality, setting dhist requires you to install the `pickleshare` library.\n",
      "  self.shell.db['dhist'] = compress_dhist(dhist)[-100:]\n"
     ]
    }
   ],
   "source": [
    "cd ../astropixel/"
   ]
  },
  {
   "cell_type": "code",
   "execution_count": 2,
   "metadata": {},
   "outputs": [],
   "source": [
    "import numpy as np\n",
    "import matplotlib.pyplot as plt\n",
    "from astropy.coordinates import SkyCoord\n",
    "import astropy.units as u\n",
    "import catalog_querry\n",
    "import cutout\n",
    "import plot_stars\n",
    "import make_star\n"
   ]
  },
  {
   "cell_type": "code",
   "execution_count": 3,
   "metadata": {},
   "outputs": [
    {
     "data": {
      "text/html": [
       "<div><i>Table length=50</i>\n",
       "<table id=\"table140621794308304\" class=\"table-striped table-bordered table-condensed\">\n",
       "<thead><tr><th>RA_ICRS</th><th>DE_ICRS</th><th>mode</th><th>q_mode</th><th>class</th><th>SDSS12</th><th>m_SDSS12</th><th>_tab1_18</th><th>Q</th><th>umag</th><th>e_umag</th><th>gmag</th><th>e_gmag</th><th>rmag</th><th>e_rmag</th><th>imag</th><th>e_imag</th><th>zmag</th><th>e_zmag</th><th>zsp</th><th>zph</th><th>e_zph</th><th>__zph_</th></tr></thead>\n",
       "<thead><tr><th>deg</th><th>deg</th><th></th><th></th><th></th><th></th><th></th><th>yr</th><th></th><th>mag</th><th>mag</th><th>mag</th><th>mag</th><th>mag</th><th>mag</th><th>mag</th><th>mag</th><th>mag</th><th>mag</th><th></th><th></th><th></th><th></th></tr></thead>\n",
       "<thead><tr><th>float64</th><th>float64</th><th>uint8</th><th>str1</th><th>uint8</th><th>str19</th><th>str1</th><th>float64</th><th>uint8</th><th>float32</th><th>float32</th><th>float32</th><th>float32</th><th>float32</th><th>float32</th><th>float32</th><th>float32</th><th>float32</th><th>float32</th><th>float64</th><th>float64</th><th>float64</th><th>float32</th></tr></thead>\n",
       "<tr><td>269.445596</td><td>4.680012</td><td>1</td><td>+</td><td>6</td><td>J175746.94+044048.0</td><td>*</td><td>2003.6391</td><td>1</td><td>20.004</td><td>0.043</td><td>17.970</td><td>0.006</td><td>17.146</td><td>0.005</td><td>16.843</td><td>0.005</td><td>16.682</td><td>0.010</td><td>--</td><td>--</td><td>--</td><td>--</td></tr>\n",
       "<tr><td>269.446191</td><td>4.677932</td><td>1</td><td>+</td><td>6</td><td>J175747.08+044040.5</td><td>*</td><td>2003.6391</td><td>1</td><td>21.095</td><td>0.095</td><td>19.860</td><td>0.018</td><td>19.310</td><td>0.015</td><td>19.012</td><td>0.016</td><td>18.933</td><td>0.052</td><td>--</td><td>--</td><td>--</td><td>--</td></tr>\n",
       "<tr><td>269.445764</td><td>4.679167</td><td>1</td><td></td><td>6</td><td>J175746.98+044045.0</td><td></td><td>2003.6391</td><td>1</td><td>23.128</td><td>0.533</td><td>20.542</td><td>0.029</td><td>19.553</td><td>0.019</td><td>19.291</td><td>0.020</td><td>19.125</td><td>0.060</td><td>--</td><td>--</td><td>--</td><td>--</td></tr>\n",
       "<tr><td>269.448015</td><td>4.683318</td><td>1</td><td>+</td><td>6</td><td>J175747.52+044059.9</td><td>*</td><td>2003.6391</td><td>1</td><td>18.591</td><td>0.018</td><td>17.086</td><td>0.004</td><td>16.475</td><td>0.004</td><td>16.235</td><td>0.004</td><td>16.118</td><td>0.008</td><td>--</td><td>--</td><td>--</td><td>--</td></tr>\n",
       "<tr><td>269.449395</td><td>4.684532</td><td>1</td><td>+</td><td>6</td><td>J175747.85+044104.3</td><td>*</td><td>2003.6391</td><td>1</td><td>20.134</td><td>0.046</td><td>18.574</td><td>0.008</td><td>18.002</td><td>0.007</td><td>17.786</td><td>0.008</td><td>17.718</td><td>0.020</td><td>--</td><td>--</td><td>--</td><td>--</td></tr>\n",
       "<tr><td>269.450722</td><td>4.682767</td><td>1</td><td>+</td><td>6</td><td>J175748.17+044057.9</td><td>*</td><td>2003.6391</td><td>1</td><td>22.808</td><td>0.382</td><td>20.278</td><td>0.023</td><td>19.525</td><td>0.018</td><td>19.175</td><td>0.018</td><td>18.959</td><td>0.052</td><td>--</td><td>--</td><td>--</td><td>--</td></tr>\n",
       "<tr><td>269.452434</td><td>4.682348</td><td>1</td><td>+</td><td>6</td><td>J175748.58+044056.4</td><td></td><td>2003.6391</td><td>1</td><td>23.494</td><td>0.658</td><td>20.731</td><td>0.031</td><td>19.997</td><td>0.024</td><td>19.681</td><td>0.026</td><td>19.515</td><td>0.083</td><td>--</td><td>--</td><td>--</td><td>--</td></tr>\n",
       "<tr><td>269.449619</td><td>4.682260</td><td>1</td><td></td><td>6</td><td>J175747.90+044056.1</td><td></td><td>2003.6391</td><td>1</td><td>24.929</td><td>0.963</td><td>24.734</td><td>0.663</td><td>23.600</td><td>0.495</td><td>22.422</td><td>0.272</td><td>19.252</td><td>0.066</td><td>--</td><td>--</td><td>--</td><td>--</td></tr>\n",
       "<tr><td>269.454658</td><td>4.677551</td><td>1</td><td>+</td><td>6</td><td>J175749.11+044039.1</td><td>*</td><td>2003.6391</td><td>1</td><td>21.254</td><td>0.107</td><td>18.717</td><td>0.009</td><td>17.710</td><td>0.006</td><td>17.306</td><td>0.006</td><td>17.068</td><td>0.013</td><td>--</td><td>--</td><td>--</td><td>--</td></tr>\n",
       "<tr><td>...</td><td>...</td><td>...</td><td>...</td><td>...</td><td>...</td><td>...</td><td>...</td><td>...</td><td>...</td><td>...</td><td>...</td><td>...</td><td>...</td><td>...</td><td>...</td><td>...</td><td>...</td><td>...</td><td>...</td><td>...</td><td>...</td><td>...</td></tr>\n",
       "<tr><td>269.463312</td><td>4.682253</td><td>2</td><td></td><td>6</td><td>J175751.19+044056.1</td><td>*</td><td>2006.3036</td><td>1</td><td>23.995</td><td>1.284</td><td>23.091</td><td>0.295</td><td>21.743</td><td>0.127</td><td>20.912</td><td>0.085</td><td>20.649</td><td>0.253</td><td>--</td><td>--</td><td>--</td><td>--</td></tr>\n",
       "<tr><td>269.464710</td><td>4.693758</td><td>2</td><td></td><td>3</td><td>J175751.53+044137.5</td><td></td><td>2006.3036</td><td>1</td><td>23.815</td><td>1.302</td><td>23.968</td><td>0.679</td><td>22.133</td><td>0.205</td><td>22.415</td><td>0.362</td><td>21.988</td><td>0.820</td><td>--</td><td>--</td><td>--</td><td>--</td></tr>\n",
       "<tr><td>269.466885</td><td>4.688775</td><td>2</td><td></td><td>6</td><td>J175752.05+044119.5</td><td>*</td><td>2006.3036</td><td>1</td><td>19.786</td><td>0.049</td><td>17.350</td><td>0.005</td><td>16.254</td><td>0.004</td><td>15.957</td><td>0.004</td><td>15.678</td><td>0.006</td><td>--</td><td>--</td><td>--</td><td>--</td></tr>\n",
       "<tr><td>269.467357</td><td>4.686761</td><td>2</td><td></td><td>6</td><td>J175752.16+044112.3</td><td></td><td>2006.3036</td><td>1</td><td>24.494</td><td>1.835</td><td>23.970</td><td>0.762</td><td>21.606</td><td>0.148</td><td>20.404</td><td>0.069</td><td>20.071</td><td>0.196</td><td>--</td><td>--</td><td>--</td><td>--</td></tr>\n",
       "<tr><td>269.456642</td><td>4.684222</td><td>2</td><td></td><td>6</td><td>J175749.59+044103.1</td><td>*</td><td>2006.3036</td><td>1</td><td>20.605</td><td>0.088</td><td>19.799</td><td>0.019</td><td>19.283</td><td>0.017</td><td>19.086</td><td>0.019</td><td>18.908</td><td>0.056</td><td>--</td><td>--</td><td>--</td><td>--</td></tr>\n",
       "<tr><td>269.455000</td><td>4.684575</td><td>2</td><td></td><td>6</td><td>J175749.20+044104.4</td><td></td><td>2006.3036</td><td>1</td><td>24.428</td><td>1.496</td><td>21.732</td><td>0.092</td><td>20.638</td><td>0.050</td><td>20.220</td><td>0.047</td><td>20.266</td><td>0.183</td><td>--</td><td>--</td><td>--</td><td>--</td></tr>\n",
       "<tr><td>269.435925</td><td>4.690114</td><td>1</td><td></td><td>6</td><td>J175744.62+044124.4</td><td>*</td><td>2003.6391</td><td>1</td><td>18.480</td><td>0.017</td><td>16.190</td><td>0.004</td><td>15.267</td><td>0.003</td><td>14.945</td><td>0.003</td><td>14.772</td><td>0.005</td><td>--</td><td>--</td><td>--</td><td>--</td></tr>\n",
       "<tr><td>269.438502</td><td>4.689350</td><td>1</td><td></td><td>6</td><td>J175745.24+044121.6</td><td>*</td><td>2003.6391</td><td>1</td><td>22.082</td><td>0.207</td><td>19.482</td><td>0.013</td><td>17.957</td><td>0.007</td><td>16.875</td><td>0.005</td><td>16.304</td><td>0.008</td><td>--</td><td>--</td><td>--</td><td>--</td></tr>\n",
       "<tr><td>269.439087</td><td>4.688682</td><td>1</td><td></td><td>6</td><td>J175745.38+044119.2</td><td></td><td>2003.6391</td><td>1</td><td>24.260</td><td>0.956</td><td>21.457</td><td>0.056</td><td>21.368</td><td>0.077</td><td>24.365</td><td>0.878</td><td>20.638</td><td>0.219</td><td>--</td><td>--</td><td>--</td><td>--</td></tr>\n",
       "</table></div>"
      ],
      "text/plain": [
       "<Table length=50>\n",
       " RA_ICRS    DE_ICRS    mode q_mode class ...   zsp     zph    e_zph   __zph_\n",
       "   deg        deg                        ...                                \n",
       " float64    float64   uint8  str1  uint8 ... float64 float64 float64 float32\n",
       "---------- ---------- ----- ------ ----- ... ------- ------- ------- -------\n",
       "269.445596   4.680012     1      +     6 ...      --      --      --      --\n",
       "269.446191   4.677932     1      +     6 ...      --      --      --      --\n",
       "269.445764   4.679167     1            6 ...      --      --      --      --\n",
       "269.448015   4.683318     1      +     6 ...      --      --      --      --\n",
       "269.449395   4.684532     1      +     6 ...      --      --      --      --\n",
       "269.450722   4.682767     1      +     6 ...      --      --      --      --\n",
       "269.452434   4.682348     1      +     6 ...      --      --      --      --\n",
       "269.449619   4.682260     1            6 ...      --      --      --      --\n",
       "269.454658   4.677551     1      +     6 ...      --      --      --      --\n",
       "       ...        ...   ...    ...   ... ...     ...     ...     ...     ...\n",
       "269.463312   4.682253     2            6 ...      --      --      --      --\n",
       "269.464710   4.693758     2            3 ...      --      --      --      --\n",
       "269.466885   4.688775     2            6 ...      --      --      --      --\n",
       "269.467357   4.686761     2            6 ...      --      --      --      --\n",
       "269.456642   4.684222     2            6 ...      --      --      --      --\n",
       "269.455000   4.684575     2            6 ...      --      --      --      --\n",
       "269.435925   4.690114     1            6 ...      --      --      --      --\n",
       "269.438502   4.689350     1            6 ...      --      --      --      --\n",
       "269.439087   4.688682     1            6 ...      --      --      --      --"
      ]
     },
     "execution_count": 3,
     "metadata": {},
     "output_type": "execute_result"
    }
   ],
   "source": [
    "\n",
    "coord = SkyCoord.from_name('Barnard\\'s Star')\n",
    "radius = 1*u.arcmin\n",
    "#field = StarPlotter(coord, size=(50, 50), radius=1*u.arcmin)\n",
    "catalog_querry.get_sdss_catalog(coord=coord, radius=radius)"
   ]
  },
  {
   "cell_type": "code",
   "execution_count": null,
   "metadata": {},
   "outputs": [],
   "source": []
  }
 ],
 "metadata": {
  "kernelspec": {
   "display_name": "codeastro",
   "language": "python",
   "name": "python3"
  },
  "language_info": {
   "codemirror_mode": {
    "name": "ipython",
    "version": 3
   },
   "file_extension": ".py",
   "mimetype": "text/x-python",
   "name": "python",
   "nbconvert_exporter": "python",
   "pygments_lexer": "ipython3",
   "version": "3.10.14"
  }
 },
 "nbformat": 4,
 "nbformat_minor": 2
}
