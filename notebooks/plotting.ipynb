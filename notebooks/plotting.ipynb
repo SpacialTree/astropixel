{
 "cells": [
  {
   "cell_type": "code",
   "execution_count": 1,
   "metadata": {},
   "outputs": [
    {
     "name": "stdout",
     "output_type": "stream",
     "text": [
      "/home/savannahgramze/codeastro/astropixel\n"
     ]
    },
    {
     "name": "stderr",
     "output_type": "stream",
     "text": [
      "/home/savannahgramze/anaconda3/envs/codeastro/lib/python3.10/site-packages/IPython/core/magics/osm.py:417: UserWarning: This is now an optional IPython functionality, setting dhist requires you to install the `pickleshare` library.\n",
      "  self.shell.db['dhist'] = compress_dhist(dhist)[-100:]\n"
     ]
    }
   ],
   "source": [
    "cd .."
   ]
  },
  {
   "cell_type": "code",
   "execution_count": 2,
   "metadata": {},
   "outputs": [],
   "source": [
    "import numpy as np\n",
    "import matplotlib.pyplot as plt\n",
    "from astropy.coordinates import SkyCoord\n",
    "import astropy.units as u\n",
    "import catalog_querry\n",
    "import cutout\n",
    "import plot_stars\n"
   ]
  },
  {
   "cell_type": "code",
   "execution_count": 3,
   "metadata": {},
   "outputs": [],
   "source": [
    "from astroquery.sdss import SDSS"
   ]
  },
  {
   "cell_type": "code",
   "execution_count": 4,
   "metadata": {},
   "outputs": [
    {
     "ename": "IndexError",
     "evalue": "index 0 is out of bounds for axis 1 with size 0",
     "output_type": "error",
     "traceback": [
      "\u001b[0;31m---------------------------------------------------------------------------\u001b[0m",
      "\u001b[0;31mIndexError\u001b[0m                                Traceback (most recent call last)",
      "Cell \u001b[0;32mIn[4], line 1\u001b[0m\n\u001b[0;32m----> 1\u001b[0m \u001b[43mplot_stars\u001b[49m\u001b[38;5;241;43m.\u001b[39;49m\u001b[43mplot_random_field\u001b[49m\u001b[43m(\u001b[49m\u001b[43m)\u001b[49m\n",
      "File \u001b[0;32m~/codeastro/astropixel/plot_stars.py:26\u001b[0m, in \u001b[0;36mplot_random_field\u001b[0;34m()\u001b[0m\n\u001b[1;32m     23\u001b[0m cat \u001b[38;5;241m=\u001b[39m catalog_querry\u001b[38;5;241m.\u001b[39mget_2mass_catalog(coord, \u001b[38;5;241m1\u001b[39m\u001b[38;5;241m*\u001b[39mu\u001b[38;5;241m.\u001b[39marcmin)\n\u001b[1;32m     25\u001b[0m fig \u001b[38;5;241m=\u001b[39m plt\u001b[38;5;241m.\u001b[39mfigure(figsize\u001b[38;5;241m=\u001b[39m(\u001b[38;5;241m8\u001b[39m, \u001b[38;5;241m8\u001b[39m))\n\u001b[0;32m---> 26\u001b[0m ax \u001b[38;5;241m=\u001b[39m \u001b[43mfig\u001b[49m\u001b[38;5;241;43m.\u001b[39;49m\u001b[43madd_subplot\u001b[49m\u001b[43m(\u001b[49m\u001b[38;5;241;43m111\u001b[39;49m\u001b[43m,\u001b[49m\u001b[43m \u001b[49m\u001b[43mprojection\u001b[49m\u001b[38;5;241;43m=\u001b[39;49m\u001b[43mwcs\u001b[49m\u001b[38;5;241;43m.\u001b[39;49m\u001b[43mcelestial\u001b[49m\u001b[43m)\u001b[49m\n\u001b[1;32m     28\u001b[0m ax\u001b[38;5;241m.\u001b[39mscatter(cat[\u001b[38;5;124m'\u001b[39m\u001b[38;5;124mRAJ2000\u001b[39m\u001b[38;5;124m'\u001b[39m], cat[\u001b[38;5;124m'\u001b[39m\u001b[38;5;124mDEJ2000\u001b[39m\u001b[38;5;124m'\u001b[39m], s\u001b[38;5;241m=\u001b[39m\u001b[38;5;241m20\u001b[39m, edgecolor\u001b[38;5;241m=\u001b[39m\u001b[38;5;124m'\u001b[39m\u001b[38;5;124mk\u001b[39m\u001b[38;5;124m'\u001b[39m, facecolor\u001b[38;5;241m=\u001b[39m\u001b[38;5;124m'\u001b[39m\u001b[38;5;124mnone\u001b[39m\u001b[38;5;124m'\u001b[39m)\n\u001b[1;32m     30\u001b[0m ax\u001b[38;5;241m.\u001b[39mset_xlabel(\u001b[38;5;124m'\u001b[39m\u001b[38;5;124mRA\u001b[39m\u001b[38;5;124m'\u001b[39m)\n",
      "File \u001b[0;32m~/anaconda3/envs/codeastro/lib/python3.10/site-packages/matplotlib/figure.py:710\u001b[0m, in \u001b[0;36mFigureBase.add_subplot\u001b[0;34m(self, *args, **kwargs)\u001b[0m\n\u001b[1;32m    708\u001b[0m         args \u001b[38;5;241m=\u001b[39m \u001b[38;5;28mtuple\u001b[39m(\u001b[38;5;28mmap\u001b[39m(\u001b[38;5;28mint\u001b[39m, \u001b[38;5;28mstr\u001b[39m(args[\u001b[38;5;241m0\u001b[39m])))\n\u001b[1;32m    709\u001b[0m     projection_class, pkw \u001b[38;5;241m=\u001b[39m \u001b[38;5;28mself\u001b[39m\u001b[38;5;241m.\u001b[39m_process_projection_requirements(\u001b[38;5;241m*\u001b[39m\u001b[38;5;241m*\u001b[39mkwargs)\n\u001b[0;32m--> 710\u001b[0m     ax \u001b[38;5;241m=\u001b[39m \u001b[43mprojection_class\u001b[49m\u001b[43m(\u001b[49m\u001b[38;5;28;43mself\u001b[39;49m\u001b[43m,\u001b[49m\u001b[43m \u001b[49m\u001b[38;5;241;43m*\u001b[39;49m\u001b[43margs\u001b[49m\u001b[43m,\u001b[49m\u001b[43m \u001b[49m\u001b[38;5;241;43m*\u001b[39;49m\u001b[38;5;241;43m*\u001b[39;49m\u001b[43mpkw\u001b[49m\u001b[43m)\u001b[49m\n\u001b[1;32m    711\u001b[0m     key \u001b[38;5;241m=\u001b[39m (projection_class, pkw)\n\u001b[1;32m    712\u001b[0m \u001b[38;5;28;01mreturn\u001b[39;00m \u001b[38;5;28mself\u001b[39m\u001b[38;5;241m.\u001b[39m_add_axes_internal(ax, key)\n",
      "File \u001b[0;32m~/anaconda3/envs/codeastro/lib/python3.10/site-packages/astropy/visualization/wcsaxes/core.py:141\u001b[0m, in \u001b[0;36mWCSAxes.__init__\u001b[0;34m(self, fig, wcs, transform, coord_meta, transData, slices, frame_class, *args, **kwargs)\u001b[0m\n\u001b[1;32m    136\u001b[0m \u001b[38;5;28;01mif\u001b[39;00m transData \u001b[38;5;129;01mis\u001b[39;00m \u001b[38;5;129;01mnot\u001b[39;00m \u001b[38;5;28;01mNone\u001b[39;00m:\n\u001b[1;32m    137\u001b[0m     \u001b[38;5;66;03m# User wants to override the transform for the final\u001b[39;00m\n\u001b[1;32m    138\u001b[0m     \u001b[38;5;66;03m# data->pixel mapping\u001b[39;00m\n\u001b[1;32m    139\u001b[0m     \u001b[38;5;28mself\u001b[39m\u001b[38;5;241m.\u001b[39mtransData \u001b[38;5;241m=\u001b[39m transData\n\u001b[0;32m--> 141\u001b[0m \u001b[38;5;28;43mself\u001b[39;49m\u001b[38;5;241;43m.\u001b[39;49m\u001b[43mreset_wcs\u001b[49m\u001b[43m(\u001b[49m\n\u001b[1;32m    142\u001b[0m \u001b[43m    \u001b[49m\u001b[43mwcs\u001b[49m\u001b[38;5;241;43m=\u001b[39;49m\u001b[43mwcs\u001b[49m\u001b[43m,\u001b[49m\u001b[43m \u001b[49m\u001b[43mslices\u001b[49m\u001b[38;5;241;43m=\u001b[39;49m\u001b[43mslices\u001b[49m\u001b[43m,\u001b[49m\u001b[43m \u001b[49m\u001b[43mtransform\u001b[49m\u001b[38;5;241;43m=\u001b[39;49m\u001b[43mtransform\u001b[49m\u001b[43m,\u001b[49m\u001b[43m \u001b[49m\u001b[43mcoord_meta\u001b[49m\u001b[38;5;241;43m=\u001b[39;49m\u001b[43mcoord_meta\u001b[49m\n\u001b[1;32m    143\u001b[0m \u001b[43m\u001b[49m\u001b[43m)\u001b[49m\n\u001b[1;32m    144\u001b[0m \u001b[38;5;28mself\u001b[39m\u001b[38;5;241m.\u001b[39m_hide_parent_artists()\n\u001b[1;32m    145\u001b[0m \u001b[38;5;28mself\u001b[39m\u001b[38;5;241m.\u001b[39mformat_coord \u001b[38;5;241m=\u001b[39m \u001b[38;5;28mself\u001b[39m\u001b[38;5;241m.\u001b[39m_display_world_coords\n",
      "File \u001b[0;32m~/anaconda3/envs/codeastro/lib/python3.10/site-packages/astropy/visualization/wcsaxes/core.py:454\u001b[0m, in \u001b[0;36mWCSAxes.reset_wcs\u001b[0;34m(self, wcs, slices, transform, coord_meta)\u001b[0m\n\u001b[1;32m    451\u001b[0m     previous_frame \u001b[38;5;241m=\u001b[39m {\u001b[38;5;124m\"\u001b[39m\u001b[38;5;124mpath\u001b[39m\u001b[38;5;124m\"\u001b[39m: \u001b[38;5;28;01mNone\u001b[39;00m}\n\u001b[1;32m    453\u001b[0m \u001b[38;5;28;01mif\u001b[39;00m \u001b[38;5;28mself\u001b[39m\u001b[38;5;241m.\u001b[39mwcs \u001b[38;5;129;01mis\u001b[39;00m \u001b[38;5;129;01mnot\u001b[39;00m \u001b[38;5;28;01mNone\u001b[39;00m:\n\u001b[0;32m--> 454\u001b[0m     transform, coord_meta \u001b[38;5;241m=\u001b[39m \u001b[43mtransform_coord_meta_from_wcs\u001b[49m\u001b[43m(\u001b[49m\n\u001b[1;32m    455\u001b[0m \u001b[43m        \u001b[49m\u001b[38;5;28;43mself\u001b[39;49m\u001b[38;5;241;43m.\u001b[39;49m\u001b[43mwcs\u001b[49m\u001b[43m,\u001b[49m\u001b[43m \u001b[49m\u001b[38;5;28;43mself\u001b[39;49m\u001b[38;5;241;43m.\u001b[39;49m\u001b[43mframe_class\u001b[49m\u001b[43m,\u001b[49m\u001b[43m \u001b[49m\u001b[43mslices\u001b[49m\u001b[38;5;241;43m=\u001b[39;49m\u001b[43mslices\u001b[49m\n\u001b[1;32m    456\u001b[0m \u001b[43m    \u001b[49m\u001b[43m)\u001b[49m\n\u001b[1;32m    458\u001b[0m \u001b[38;5;28mself\u001b[39m\u001b[38;5;241m.\u001b[39mcoords \u001b[38;5;241m=\u001b[39m CoordinatesMap(\n\u001b[1;32m    459\u001b[0m     \u001b[38;5;28mself\u001b[39m,\n\u001b[1;32m    460\u001b[0m     transform\u001b[38;5;241m=\u001b[39mtransform,\n\u001b[0;32m   (...)\u001b[0m\n\u001b[1;32m    463\u001b[0m     previous_frame_path\u001b[38;5;241m=\u001b[39mprevious_frame[\u001b[38;5;124m\"\u001b[39m\u001b[38;5;124mpath\u001b[39m\u001b[38;5;124m\"\u001b[39m],\n\u001b[1;32m    464\u001b[0m )\n\u001b[1;32m    466\u001b[0m \u001b[38;5;28mself\u001b[39m\u001b[38;5;241m.\u001b[39m_transform_pixel2world \u001b[38;5;241m=\u001b[39m transform\n",
      "File \u001b[0;32m~/anaconda3/envs/codeastro/lib/python3.10/site-packages/astropy/visualization/wcsaxes/wcsapi.py:172\u001b[0m, in \u001b[0;36mtransform_coord_meta_from_wcs\u001b[0;34m(wcs, frame_class, slices)\u001b[0m\n\u001b[1;32m    170\u001b[0m \u001b[38;5;28;01mif\u001b[39;00m frame_class \u001b[38;5;129;01mis\u001b[39;00m RectangularFrame:\n\u001b[1;32m    171\u001b[0m     \u001b[38;5;28;01mfor\u001b[39;00m i, spine_name \u001b[38;5;129;01min\u001b[39;00m \u001b[38;5;28menumerate\u001b[39m(\u001b[38;5;124m\"\u001b[39m\u001b[38;5;124mbltr\u001b[39m\u001b[38;5;124m\"\u001b[39m):\n\u001b[0;32m--> 172\u001b[0m         pos \u001b[38;5;241m=\u001b[39m np\u001b[38;5;241m.\u001b[39mnonzero(\u001b[43mm\u001b[49m\u001b[43m[\u001b[49m\u001b[43m:\u001b[49m\u001b[43m,\u001b[49m\u001b[43m \u001b[49m\u001b[43mi\u001b[49m\u001b[43m \u001b[49m\u001b[38;5;241;43m%\u001b[39;49m\u001b[43m \u001b[49m\u001b[38;5;241;43m2\u001b[39;49m\u001b[43m]\u001b[49m)[\u001b[38;5;241m0\u001b[39m]\n\u001b[1;32m    173\u001b[0m         \u001b[38;5;66;03m# If all the axes we have are correlated with each other and we\u001b[39;00m\n\u001b[1;32m    174\u001b[0m         \u001b[38;5;66;03m# have inverted the axes, then we need to reverse the index so we\u001b[39;00m\n\u001b[1;32m    175\u001b[0m         \u001b[38;5;66;03m# put the 'y' on the left.\u001b[39;00m\n\u001b[1;32m    176\u001b[0m         \u001b[38;5;28;01mif\u001b[39;00m inv_all_corr[i \u001b[38;5;241m%\u001b[39m \u001b[38;5;241m2\u001b[39m]:\n",
      "\u001b[0;31mIndexError\u001b[0m: index 0 is out of bounds for axis 1 with size 0"
     ]
    },
    {
     "data": {
      "text/plain": [
       "<Figure size 800x800 with 0 Axes>"
      ]
     },
     "metadata": {},
     "output_type": "display_data"
    }
   ],
   "source": [
    "plot_stars.plot_random_field()"
   ]
  },
  {
   "cell_type": "code",
   "execution_count": 5,
   "metadata": {},
   "outputs": [],
   "source": [
    "#coord = SkyCoord.from_name('Sirius')#\n",
    "coord = catalog_querry.get_random_coordinates_gal().icrs"
   ]
  },
  {
   "cell_type": "code",
   "execution_count": 6,
   "metadata": {},
   "outputs": [
    {
     "data": {
      "text/plain": [
       "<SkyCoord (ICRS): (ra, dec) in deg\n",
       "    (269.20671574, -18.41033015)>"
      ]
     },
     "execution_count": 6,
     "metadata": {},
     "output_type": "execute_result"
    }
   ],
   "source": [
    "coord.icrs"
   ]
  },
  {
   "cell_type": "code",
   "execution_count": 7,
   "metadata": {},
   "outputs": [],
   "source": [
    "cat = catalog_querry.get_2mass_catalog(coord, 1*u.arcmin)"
   ]
  },
  {
   "cell_type": "code",
   "execution_count": 8,
   "metadata": {},
   "outputs": [
    {
     "data": {
      "text/html": [
       "<div><i>Table length=50</i>\n",
       "<table id=\"table140592240905856\" class=\"table-striped table-bordered table-condensed\">\n",
       "<thead><tr><th>RAJ2000</th><th>DEJ2000</th><th>_2MASS</th><th>Jmag</th><th>e_Jmag</th><th>Hmag</th><th>e_Hmag</th><th>Kmag</th><th>e_Kmag</th><th>Qflg</th><th>Rflg</th><th>Bflg</th><th>Cflg</th><th>Xflg</th><th>Aflg</th></tr></thead>\n",
       "<thead><tr><th>deg</th><th>deg</th><th></th><th>mag</th><th>mag</th><th>mag</th><th>mag</th><th>mag</th><th>mag</th><th></th><th></th><th></th><th></th><th></th><th></th></tr></thead>\n",
       "<thead><tr><th>float64</th><th>float64</th><th>str17</th><th>float32</th><th>float32</th><th>float32</th><th>float32</th><th>float32</th><th>float32</th><th>str3</th><th>str3</th><th>str3</th><th>str3</th><th>uint8</th><th>uint8</th></tr></thead>\n",
       "<tr><td>269.207525</td><td>-18.423075</td><td>17564980-1825230</td><td>15.282</td><td>0.049</td><td>14.219</td><td>0.040</td><td>13.885</td><td>0.053</td><td>BCB</td><td>222</td><td>111</td><td>000</td><td>0</td><td>0</td></tr>\n",
       "<tr><td>269.207051</td><td>-18.418009</td><td>17564969-1825048</td><td>12.607</td><td>0.047</td><td>12.355</td><td>0.035</td><td>12.285</td><td>0.032</td><td>AAA</td><td>222</td><td>222</td><td>ccc</td><td>0</td><td>0</td></tr>\n",
       "<tr><td>269.207045</td><td>-18.402493</td><td>17564969-1824089</td><td>15.954</td><td>0.077</td><td>14.472</td><td>0.075</td><td>13.905</td><td>0.051</td><td>DDB</td><td>222</td><td>111</td><td>000</td><td>0</td><td>0</td></tr>\n",
       "<tr><td>269.209329</td><td>-18.419245</td><td>17565023-1825092</td><td>15.930</td><td>0.092</td><td>14.965</td><td>--</td><td>14.965</td><td>--</td><td>DUU</td><td>200</td><td>100</td><td>c00</td><td>0</td><td>0</td></tr>\n",
       "<tr><td>269.208602</td><td>-18.410770</td><td>17565006-1824387</td><td>15.468</td><td>0.051</td><td>13.984</td><td>0.044</td><td>13.380</td><td>0.035</td><td>BCA</td><td>222</td><td>111</td><td>c00</td><td>0</td><td>0</td></tr>\n",
       "<tr><td>269.207273</td><td>-18.400286</td><td>17564974-1824010</td><td>14.913</td><td>0.071</td><td>13.735</td><td>0.068</td><td>13.289</td><td>0.055</td><td>ABA</td><td>222</td><td>111</td><td>000</td><td>0</td><td>0</td></tr>\n",
       "<tr><td>269.207077</td><td>-18.404686</td><td>17564969-1824168</td><td>17.916</td><td>--</td><td>14.276</td><td>0.028</td><td>16.127</td><td>--</td><td>UEU</td><td>020</td><td>010</td><td>000</td><td>0</td><td>0</td></tr>\n",
       "<tr><td>269.207850</td><td>-18.426130</td><td>17564988-1825340</td><td>15.224</td><td>0.049</td><td>14.351</td><td>0.049</td><td>13.901</td><td>0.046</td><td>BDB</td><td>222</td><td>111</td><td>000</td><td>0</td><td>0</td></tr>\n",
       "<tr><td>269.207739</td><td>-18.420774</td><td>17564985-1825147</td><td>16.020</td><td>0.099</td><td>14.824</td><td>--</td><td>14.657</td><td>--</td><td>DUU</td><td>200</td><td>100</td><td>c00</td><td>0</td><td>0</td></tr>\n",
       "<tr><td>...</td><td>...</td><td>...</td><td>...</td><td>...</td><td>...</td><td>...</td><td>...</td><td>...</td><td>...</td><td>...</td><td>...</td><td>...</td><td>...</td><td>...</td></tr>\n",
       "<tr><td>269.193945</td><td>-18.401331</td><td>17564654-1824047</td><td>16.072</td><td>0.110</td><td>14.847</td><td>0.086</td><td>14.410</td><td>0.093</td><td>DDC</td><td>222</td><td>111</td><td>000</td><td>0</td><td>0</td></tr>\n",
       "<tr><td>269.195329</td><td>-18.402428</td><td>17564687-1824087</td><td>16.300</td><td>0.100</td><td>15.110</td><td>0.075</td><td>14.424</td><td>--</td><td>DDU</td><td>220</td><td>110</td><td>000</td><td>0</td><td>0</td></tr>\n",
       "<tr><td>269.206559</td><td>-18.395718</td><td>17564957-1823445</td><td>16.281</td><td>--</td><td>14.811</td><td>--</td><td>14.335</td><td>0.091</td><td>UUC</td><td>002</td><td>001</td><td>000</td><td>0</td><td>0</td></tr>\n",
       "<tr><td>269.195402</td><td>-18.412302</td><td>17564689-1824442</td><td>14.067</td><td>0.054</td><td>12.889</td><td>0.064</td><td>12.510</td><td>0.052</td><td>AAA</td><td>222</td><td>222</td><td>ccc</td><td>0</td><td>0</td></tr>\n",
       "<tr><td>269.210086</td><td>-18.400503</td><td>17565042-1824018</td><td>15.728</td><td>0.078</td><td>14.286</td><td>0.093</td><td>13.735</td><td>0.077</td><td>CCB</td><td>222</td><td>111</td><td>000</td><td>0</td><td>0</td></tr>\n",
       "<tr><td>269.208678</td><td>-18.394726</td><td>17565008-1823410</td><td>16.000</td><td>0.073</td><td>14.067</td><td>0.032</td><td>13.280</td><td>0.033</td><td>DCA</td><td>222</td><td>111</td><td>000</td><td>0</td><td>0</td></tr>\n",
       "<tr><td>269.212759</td><td>-18.409122</td><td>17565106-1824328</td><td>12.500</td><td>0.029</td><td>10.811</td><td>0.026</td><td>10.105</td><td>0.025</td><td>AAA</td><td>222</td><td>111</td><td>000</td><td>0</td><td>0</td></tr>\n",
       "<tr><td>269.213114</td><td>-18.413729</td><td>17565114-1824494</td><td>14.476</td><td>0.024</td><td>13.258</td><td>0.021</td><td>12.822</td><td>0.027</td><td>AAA</td><td>222</td><td>111</td><td>000</td><td>0</td><td>0</td></tr>\n",
       "<tr><td>269.213201</td><td>-18.403923</td><td>17565116-1824141</td><td>16.846</td><td>--</td><td>15.142</td><td>--</td><td>14.656</td><td>0.091</td><td>UUD</td><td>002</td><td>001</td><td>000</td><td>0</td><td>0</td></tr>\n",
       "</table></div>"
      ],
      "text/plain": [
       "<Table length=50>\n",
       " RAJ2000    DEJ2000        _2MASS        Jmag   e_Jmag ... Bflg Cflg  Xflg  Aflg\n",
       "   deg        deg                        mag     mag   ...                      \n",
       " float64    float64        str17       float32 float32 ... str3 str3 uint8 uint8\n",
       "---------- ---------- ---------------- ------- ------- ... ---- ---- ----- -----\n",
       "269.207525 -18.423075 17564980-1825230  15.282   0.049 ...  111  000     0     0\n",
       "269.207051 -18.418009 17564969-1825048  12.607   0.047 ...  222  ccc     0     0\n",
       "269.207045 -18.402493 17564969-1824089  15.954   0.077 ...  111  000     0     0\n",
       "269.209329 -18.419245 17565023-1825092  15.930   0.092 ...  100  c00     0     0\n",
       "269.208602 -18.410770 17565006-1824387  15.468   0.051 ...  111  c00     0     0\n",
       "269.207273 -18.400286 17564974-1824010  14.913   0.071 ...  111  000     0     0\n",
       "269.207077 -18.404686 17564969-1824168  17.916      -- ...  010  000     0     0\n",
       "269.207850 -18.426130 17564988-1825340  15.224   0.049 ...  111  000     0     0\n",
       "269.207739 -18.420774 17564985-1825147  16.020   0.099 ...  100  c00     0     0\n",
       "       ...        ...              ...     ...     ... ...  ...  ...   ...   ...\n",
       "269.193945 -18.401331 17564654-1824047  16.072   0.110 ...  111  000     0     0\n",
       "269.195329 -18.402428 17564687-1824087  16.300   0.100 ...  110  000     0     0\n",
       "269.206559 -18.395718 17564957-1823445  16.281      -- ...  001  000     0     0\n",
       "269.195402 -18.412302 17564689-1824442  14.067   0.054 ...  222  ccc     0     0\n",
       "269.210086 -18.400503 17565042-1824018  15.728   0.078 ...  111  000     0     0\n",
       "269.208678 -18.394726 17565008-1823410  16.000   0.073 ...  111  000     0     0\n",
       "269.212759 -18.409122 17565106-1824328  12.500   0.029 ...  111  000     0     0\n",
       "269.213114 -18.413729 17565114-1824494  14.476   0.024 ...  111  000     0     0\n",
       "269.213201 -18.403923 17565116-1824141  16.846      -- ...  001  000     0     0"
      ]
     },
     "execution_count": 8,
     "metadata": {},
     "output_type": "execute_result"
    }
   ],
   "source": [
    "cat"
   ]
  },
  {
   "cell_type": "code",
   "execution_count": 9,
   "metadata": {},
   "outputs": [
    {
     "name": "stdout",
     "output_type": "stream",
     "text": [
      "WCS Keywords\n",
      "\n",
      "Number of WCS axes: 2\n",
      "CTYPE : '' '' \n",
      "CRVAL : 269.2067157435185 -18.410330150242828 \n",
      "CRPIX : 500.0 500.0 \n",
      "PC1_1 PC1_2  : 1.0 0.0 \n",
      "PC2_1 PC2_2  : 0.0 1.0 \n",
      "CDELT : -0.001 0.001 \n",
      "NAXIS : 0  0\n"
     ]
    }
   ],
   "source": [
    "from astropy.wcs import WCS\n",
    "\n",
    "# Create a new WCS\n",
    "wcs = WCS(naxis=2)\n",
    "wcs.wcs.crpix = [500, 500]  # Set the reference pixel to the center of the image\n",
    "wcs.wcs.crval = [coord.ra.deg, coord.dec.deg]  # Set the reference value to the given coordinates\n",
    "wcs.wcs.cdelt = np.array([-0.001, 0.001])  # Set the pixel scale (assuming 0.001 degrees per pixel)\n",
    "\n",
    "# Print the WCS information\n",
    "print(wcs)"
   ]
  },
  {
   "cell_type": "code",
   "execution_count": 10,
   "metadata": {},
   "outputs": [
    {
     "data": {
      "text/plain": [
       "Text(0, 0.5, 'Dec')"
      ]
     },
     "execution_count": 10,
     "metadata": {},
     "output_type": "execute_result"
    },
    {
     "data": {
      "image/png": "[encoded data removed]",
      "text/plain": [
       "<Figure size 640x480 with 1 Axes>"
      ]
     },
     "metadata": {},
     "output_type": "display_data"
    }
   ],
   "source": [
    "ax = plt.subplot(111, transform=wcs.celestial)\n",
    "ax.scatter(cat['RAJ2000'], cat['DEJ2000'], s=20, edgecolor='k', facecolor='none')\n",
    "\n",
    "ax.set_xlabel('RA')\n",
    "ax.set_ylabel('Dec')"
   ]
  },
  {
   "cell_type": "code",
   "execution_count": null,
   "metadata": {},
   "outputs": [],
   "source": []
  }
 ],
 "metadata": {
  "kernelspec": {
   "display_name": "codeastro",
   "language": "python",
   "name": "python3"
  },
  "language_info": {
   "codemirror_mode": {
    "name": "ipython",
    "version": 3
   },
   "file_extension": ".py",
   "mimetype": "text/x-python",
   "name": "python",
   "nbconvert_exporter": "python",
   "pygments_lexer": "ipython3",
   "version": "3.10.14"
  }
 },
 "nbformat": 4,
 "nbformat_minor": 2
}
